{
 "cells": [
  {
   "cell_type": "code",
   "execution_count": 37,
   "metadata": {},
   "outputs": [],
   "source": [
    "#!pip install llama_index\n",
    "#!pip install chardet\n",
    "#!pip install --upgrade llama-index\n",
    "from IPython.core.interactiveshell import InteractiveShell\n",
    "InteractiveShell.ast_node_interactivity = \"all\"\n"
   ]
  },
  {
   "cell_type": "code",
   "execution_count": 12,
   "metadata": {},
   "outputs": [],
   "source": [
    "from llama_index.readers.file import PandasCSVReader\n",
    "import nest_asyncio\n",
    "nest_asyncio.apply()\n",
    "import chardet"
   ]
  },
  {
   "cell_type": "code",
   "execution_count": 21,
   "metadata": {},
   "outputs": [],
   "source": [
    "import pandas as pd\n",
    "\n",
    "# Detect file encoding\n",
    "#with open(\"data/movies.csv\", \"rb\") as f:\n",
    "    #raw_data = f.read()\n",
    "    #result = chardet.detect(raw_data)\n",
    "    #detected_encoding = result[\"encoding\"]\n",
    "\n",
    "#print(f\"Detected Encoding: {detected_encoding}\")\n",
    "\n",
    "# Load CSV file\n",
    "#csv_reader = PandasCSVReader()\n",
    "#csv_reader = PandasCSVReader()  # Use alternate encoding\n",
    "df = pd.read_csv(\"data/movies.csv\")\n"
   ]
  },
  {
   "cell_type": "code",
   "execution_count": 22,
   "metadata": {},
   "outputs": [],
   "source": [
    "#Convert CSV data to Nodes\n",
    "from llama_index.core.node_parser import SimpleNodeParser\n",
    "from llama_index.core.schema import Document\n",
    "\n",
    "# Convert each row into a Document\n",
    "\n",
    "documents = []\n",
    "for _, row in df.iterrows():\n",
    "    # Join row into a single string or format nicely\n",
    "    content = \"\\n\".join([f\"{col}: {row[col]}\" for col in df.columns])\n",
    "    metadata = {\"title\": row.get(\"original_title\"), \"genre\": row.get(\"genres\")}\n",
    "    documents.append(Document(text=content))\n",
    "\n",
    "# Parse each document into a node (1:1 mapping in this case)\n",
    "parser = SimpleNodeParser()\n",
    "nodes = parser.get_nodes_from_documents(documents)\n"
   ]
  },
  {
   "cell_type": "code",
   "execution_count": 23,
   "metadata": {},
   "outputs": [],
   "source": [
    "from llama_index.core import VectorStoreIndex, StorageContext\n",
    "storage_dir = \"./movie-index-latest\"\n",
    "#print(nodes)\n",
    "index = VectorStoreIndex(nodes)\n",
    "#storage_context = StorageContext.from_defaults(persist_dir=storage_dir)\n",
    "index.storage_context.persist(persist_dir=storage_dir)  # Store index for later use\n"
   ]
  },
  {
   "cell_type": "code",
   "execution_count": 6,
   "metadata": {},
   "outputs": [],
   "source": [
    "from llama_index.llms.openai import OpenAI\n",
    "llm = OpenAI(model=\"gpt-4o\")"
   ]
  },
  {
   "cell_type": "code",
   "execution_count": 2,
   "metadata": {},
   "outputs": [],
   "source": [
    "from llama_index.core import StorageContext, load_index_from_storage\n",
    "#loading movie index\n",
    "storage_dir = \"./movie-index-latest\"\n",
    "storage_context = StorageContext.from_defaults(persist_dir=storage_dir)\n",
    "# Load the index\n",
    "index = load_index_from_storage(storage_context)"
   ]
  },
  {
   "cell_type": "code",
   "execution_count": 7,
   "metadata": {},
   "outputs": [
    {
     "name": "stdout",
     "output_type": "stream",
     "text": [
      "Some sci-fi movies with a rating above 8.0 that you might enjoy are \"Blade Runner,\" \"Inception,\" and \"Interstellar.\"\n"
     ]
    }
   ],
   "source": [
    "print(index.as_query_engine().query(\"Recommend me some sci-fi movies with a rating above 8.0.\"))"
   ]
  },
  {
   "cell_type": "code",
   "execution_count": 8,
   "metadata": {},
   "outputs": [],
   "source": [
    "mindex = index.as_query_engine()"
   ]
  },
  {
   "cell_type": "code",
   "execution_count": 119,
   "metadata": {},
   "outputs": [],
   "source": [
    "from llama_index.core.agent.workflow import FunctionAgent, AgentWorkflow\n",
    "\n",
    "from llama_index.core.workflow import Context\n",
    "from llama_index.core import StorageContext, load_index_from_storage\n",
    "\n",
    "# 1. Search movie details\n",
    "async def search_movie_details(ctx: Context, movie_name: str) -> str:\n",
    "    query_result = mindex.query(f\"Find details for the movie {movie_name}\")\n",
    "    result_str = query_result.response if hasattr(query_result, \"response\") else str(query_result)\n",
    "\n",
    "    if \"not found\" in result_str.lower():\n",
    "        return f\"❌ Movie details not found for {movie_name}.\"\n",
    "\n",
    "    current_state = await ctx.get(\"state\")\n",
    "    current_state[\"movie_details\"][movie_name] = result_str\n",
    "    await ctx.set(\"state\", current_state)\n",
    "\n",
    "    return f\"✅ Movie details found for {movie_name}.\\n{result_str}\"\n",
    "\n",
    "\n",
    "async def get_movie_budget_and_revenue(ctx: Context, movie_name: str) -> str:\n",
    "    current_state = await ctx.get(\"state\")\n",
    "\n",
    "    # If details missing, hand off to SearchAgent\n",
    "    if movie_name not in current_state[\"movie_details\"]:\n",
    "        await ctx.request_handoff(\n",
    "            to_agent=\"SearchAgent\",\n",
    "            reason=f\"Movie details missing for '{movie_name}', required before fetching budget/revenue.\"\n",
    "        )\n",
    "        return f\"🔄 Handoff triggered to SearchAgent for '{movie_name}'\"\n",
    "\n",
    "    # Query both\n",
    "    budget = mindex.query(f\"What is the budget of {movie_name}?\")\n",
    "    revenue = mindex.query(f\"What is the revenue of {movie_name}?\")\n",
    "\n",
    "    budget_str = budget.response if hasattr(budget, \"response\") else str(budget)\n",
    "    revenue_str = revenue.response if hasattr(revenue, \"response\") else str(revenue)\n",
    "\n",
    "    # Update state\n",
    "    current_state[\"budget_details\"][movie_name] = budget_str\n",
    "    current_state[\"revenue_details\"][movie_name] = revenue_str\n",
    "    await ctx.set(\"state\", current_state)\n",
    "\n",
    "    return (\n",
    "        f\"💰 Budget for '{movie_name}': {budget_str}\\n\"\n",
    "        f\"💸 Revenue for '{movie_name}': {revenue_str}\"\n",
    "        f\"Please hand off to SummaryAgent to summarize this movie.\"\n",
    "    )\n",
    "\n",
    "\n",
    "\n",
    "# 4. Summarize movie data\n",
    "async def summarize_agent(ctx: Context) -> str:\n",
    "    state = await ctx.get(\"state\")\n",
    "    details = state.get(\"movie_details\", {})\n",
    "    budgets = state.get(\"budget_details\", {})\n",
    "    revenues = state.get(\"revenue_details\", {})\n",
    "\n",
    "    summary = \"🎬 **Movie Summary**\\n\\n\"\n",
    "    for movie in details.keys():\n",
    "        summary += f\"📌 **{movie}**\\n\"\n",
    "        summary += f\" - Budget: {budgets.get(movie, 'N/A')}\\n\"\n",
    "        summary += f\" - Revenue: {revenues.get(movie, 'N/A')}\\n\"\n",
    "        summary += f\" - Details: {details.get(movie, 'No details')[:300]}...\\n\\n\"\n",
    "\n",
    "    return summary\n",
    "\n",
    "\n",
    "search_agent = FunctionAgent(\n",
    "    name=\"SearchAgent\",\n",
    "    description=\"Searches for movie details\",\n",
    "    system_prompt=\"You find details for a given movie from the movie index.\",\n",
    "    llm=llm,\n",
    "    tools=[search_movie_details],\n",
    "    can_handoff_to=[\"BudgetRevenueAgent\",\"SummaryAgent\"]\n",
    ")\n",
    "\n",
    "budget_revenue_agent = FunctionAgent(\n",
    "    name=\"BudgetRevenueAgent\",\n",
    "    description=\"Finds both budget and revenue for a given movie.\",\n",
    "    system_prompt=(\n",
    "        \"You are the BudgetRevenueAgent. Your task is to retrieve both the budget and revenue of the given movie \"\n",
    "        \"using the provided tool. If movie details are missing, hand off to SearchAgent first. \"\n",
    "        \"Once budget and revenue are retrieved, hand off to SummaryAgent.\"\n",
    "    ),\n",
    "    llm=llm,\n",
    "    tools=[get_movie_budget_and_revenue],\n",
    "    can_handoff_to=[\"SearchAgent\", \"SummaryAgent\"]\n",
    ")\n",
    "\n",
    "\n",
    "summary_agent = FunctionAgent(\n",
    "    name=\"SummaryAgent\",\n",
    "    description=\"Summarizes the movie with budget, revenue, and key details.\",\n",
    "    system_prompt=(\n",
    "        \"You are the SummaryAgent. Your job is to generate a complete summary of the movie. \"\n",
    "        \"Use the stored context to list the budget, revenue, and a brief overview for each movie.\"\n",
    "    ),\n",
    "    llm=llm,\n",
    "    tools=[summarize_agent],\n",
    "    can_handoff_to=[]\n",
    ")\n",
    "\n",
    "movie_workflow = AgentWorkflow(\n",
    "    agents=[search_agent, budget_revenue_agent, summary_agent],\n",
    "    root_agent=\"SearchAgent\",\n",
    "    initial_state={\n",
    "        \"movie_details\": {},\n",
    "        \"budget_details\": {},\n",
    "        \"revenue_details\": {}\n",
    "    }\n",
    ")\n",
    "\n",
    "\n"
   ]
  },
  {
   "cell_type": "code",
   "execution_count": 121,
   "metadata": {},
   "outputs": [
    {
     "name": "stdout",
     "output_type": "stream",
     "text": [
      "\n",
      "==================================================\n",
      "🤖 Agent: SearchAgent\n",
      "==================================================\n",
      "\n",
      "🛠️  Planning to use tools: ['search_movie_details', 'handoff']\n",
      "🔨 Calling Tool: search_movie_details\n",
      "  With arguments: {'movie_name': 'True Lies'}\n",
      "🔧 Tool Result (search_movie_details):\n",
      "  Arguments: {'movie_name': 'True Lies'}\n",
      "  Output: ✅ Movie details found for True Lies.\n",
      "The movie \"True Lies\" was released on July 14, 1994. It falls under the genres of Action and Thriller. The film was directed by James Cameron and produced by Twentieth Century Fox Film Corporation and Lightstorm Entertainment. The main cast includes Arnold Schwarzenegger, Jamie Lee Curtis, Tom Arnold, Bill Paxton, and Tia Carrere. The plot revolves around a secret agent who must reveal his identity to his wife and stop nuclear terrorists after they are both kidnapped.\n",
      "🔨 Calling Tool: handoff\n",
      "  With arguments: {'to_agent': 'SummaryAgent', 'reason': 'Summarizes the movie with budget, revenue, and key details.'}\n",
      "🔧 Tool Result (handoff):\n",
      "  Arguments: {'to_agent': 'SummaryAgent', 'reason': 'Summarizes the movie with budget, revenue, and key details.'}\n",
      "  Output: Agent SummaryAgent is now handling the request due to the following reason: Summarizes the movie with budget, revenue, and key details..\n",
      "Please continue with the current request.\n",
      "\n",
      "==================================================\n",
      "🤖 Agent: SummaryAgent\n",
      "==================================================\n",
      "\n",
      "📤 Output: **True Lies (1994)**\n",
      "\n",
      "- **Overview**: \"True Lies\" is an action-thriller film directed by James Cameron. The movie was released on July 14, 1994, and features a star-studded cast including Arnold Schwarzenegger, Jamie Lee Curtis, Tom Arnold, Bill Paxton, and Tia Carrere. The story follows a secret agent who must reveal his true identity to his wife while thwarting nuclear terrorists after they are both kidnapped.\n",
      "\n",
      "- **Budget**: The movie was produced by Twentieth Century Fox Film Corporation and Lightstorm Entertainment. (Specific budget details are not provided in the current context.)\n",
      "\n",
      "- **Revenue**: (Specific revenue details are not provided in the current context.)\n",
      "\n",
      "If you need more detailed financial information, please let me know!\n"
     ]
    }
   ],
   "source": [
    "from llama_index.core.agent.workflow import (\n",
    "    AgentInput,\n",
    "    AgentOutput,\n",
    "    ToolCall,\n",
    "    ToolCallResult,\n",
    "    AgentStream,\n",
    ")\n",
    "query = \"tell me about interstellar and itsreview \"\n",
    "query = \"tell me about The bat dark knight series and its budget and revenues\"\n",
    "query = \"tell me about true lies\"\n",
    "#query = \"tell me about a comedy movie\"\n",
    "handler = movie_workflow.run(\n",
    "    user_msg=(\n",
    "        query\n",
    "    )\n",
    ")\n",
    "\n",
    "current_agent = None\n",
    "current_tool_calls = \"\"\n",
    "async for event in handler.stream_events():\n",
    "    if (\n",
    "        hasattr(event, \"current_agent_name\")\n",
    "        and event.current_agent_name != current_agent\n",
    "    ):\n",
    "        current_agent = event.current_agent_name\n",
    "        print(f\"\\n{'='*50}\")\n",
    "        print(f\"🤖 Agent: {current_agent}\")\n",
    "        print(f\"{'='*50}\\n\")\n",
    "\n",
    "    # if isinstance(event, AgentStream):\n",
    "    #     if event.delta:\n",
    "    #         print(event.delta, end=\"\", flush=True)\n",
    "    # elif isinstance(event, AgentInput):\n",
    "    #     print(\"📥 Input:\", event.input)\n",
    "    elif isinstance(event, AgentOutput):\n",
    "        if event.response.content:\n",
    "            print(\"📤 Output:\", event.response.content)\n",
    "        if event.tool_calls:\n",
    "            print(\n",
    "                \"🛠️  Planning to use tools:\",\n",
    "                [call.tool_name for call in event.tool_calls],\n",
    "            )\n",
    "    elif isinstance(event, ToolCallResult):\n",
    "        print(f\"🔧 Tool Result ({event.tool_name}):\")\n",
    "        print(f\"  Arguments: {event.tool_kwargs}\")\n",
    "        print(f\"  Output: {event.tool_output}\")\n",
    "    elif isinstance(event, ToolCall):\n",
    "        print(f\"🔨 Calling Tool: {event.tool_name}\")\n",
    "        print(f\"  With arguments: {event.tool_kwargs}\")"
   ]
  },
  {
   "cell_type": "code",
   "execution_count": 77,
   "metadata": {},
   "outputs": [
    {
     "name": "stdout",
     "output_type": "stream",
     "text": [
      "The Dark Knight series, directed by Christopher Nolan, is a trilogy of superhero films based on the DC Comics character Batman. The series includes three films: \"Batman Begins\" (2005), \"The Dark Knight\" (2008), and \"The Dark Knight Rises\" (2012).\n",
      "\n",
      "1. **Batman Begins (2005)**:\n",
      "   - **Budget**: Approximately $150 million\n",
      "   - **Revenue**: Approximately $373 million\n",
      "   - **Overview**: The film explores the origins of the Batman legend and the emergence of Bruce Wayne as the Dark Knight. After witnessing his parents' murder, Bruce travels the world to understand the nature of crime and becomes Batman to protect Gotham City from the criminal underworld.\n",
      "\n",
      "2. **The Dark Knight (2008)**:\n",
      "   - **Budget**: $185 million\n",
      "   - **Revenue**: $1,004,558,444\n",
      "   - **Overview**: Batman, with the help of Lt. Jim Gordon and District Attorney Harvey Dent, sets out to dismantle the remaining criminal organizations in Gotham. However, they soon find themselves prey to a reign of chaos unleashed by a rising criminal mastermind known as the Joker.\n",
      "\n",
      "3. **The Dark Knight Rises (2012)**:\n",
      "   - **Budget**: Approximately $250 million\n",
      "   - **Revenue**: Approximately $1.081 billion\n",
      "   - **Overview**: Set eight years after the events of The Dark Knight, the film follows Batman as he returns to Gotham City to face the masked terrorist Bane, who plans to destroy the city. Batman must confront his own demons and rise to protect the city he loves.\n",
      "\n",
      "The series is acclaimed for its complex characters, thematic depth, and thrilling action sequences, with \"The Dark Knight\" particularly praised for Heath Ledger's iconic performance as the Joker.\n"
     ]
    }
   ],
   "source": [
    "response = await movie_workflow.run(query, verbose=True)\n",
    "print(str(response))\n"
   ]
  },
  {
   "cell_type": "code",
   "execution_count": 32,
   "metadata": {},
   "outputs": [
    {
     "name": "stdout",
     "output_type": "stream",
     "text": [
      "Here are some top movie recommendations for you:\n",
      "\n",
      "1. **Top Five** - A comedy-drama about a comedian trying to transition into serious acting.\n",
      "2. **Top Hat** - A classic musical comedy featuring dance and romance.\n",
      "\n",
      "Enjoy your movie time!\n"
     ]
    }
   ],
   "source": [
    "from llama_index.core.agent.workflow import (\n",
    "    AgentInput,\n",
    "    AgentOutput,\n",
    "    ToolCall,\n",
    "    ToolCallResult,\n",
    "    AgentStream,\n",
    ")\n",
    "#query = \"Recommend me some sci-fi movies with a rating above 8.0.\"\n",
    "query = \"Recommend some top movies\"\n",
    "response = await agent_workflow.run(\n",
    "    user_msg=query\n",
    ")\n",
    "print(response)"
   ]
  },
  {
   "cell_type": "code",
   "execution_count": 11,
   "metadata": {},
   "outputs": [
    {
     "name": "stdout",
     "output_type": "stream",
     "text": [
      "I recommend watching \"Sweeney Todd: The Demon Barber of Fleet Street.\" If you're interested in more TV series recommendations, feel free to ask!\n"
     ]
    }
   ],
   "source": [
    "print(response)"
   ]
  }
 ],
 "metadata": {
  "kernelspec": {
   "display_name": "mvenv",
   "language": "python",
   "name": "python3"
  },
  "language_info": {
   "codemirror_mode": {
    "name": "ipython",
    "version": 3
   },
   "file_extension": ".py",
   "mimetype": "text/x-python",
   "name": "python",
   "nbconvert_exporter": "python",
   "pygments_lexer": "ipython3",
   "version": "3.11.7"
  }
 },
 "nbformat": 4,
 "nbformat_minor": 2
}
